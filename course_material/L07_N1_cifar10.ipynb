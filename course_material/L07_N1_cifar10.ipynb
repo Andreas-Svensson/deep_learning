{
 "cells": [
  {
   "cell_type": "markdown",
   "id": "7ab8e807-1c5d-4ac9-b570-5fdedd14981b",
   "metadata": {},
   "source": [
    "# Training a network on the CIFAR10 dataset"
   ]
  },
  {
   "cell_type": "markdown",
   "id": "871158de-b4ed-4502-9043-6d8dc737d1b8",
   "metadata": {},
   "source": [
    "We'll train a custom network on the cifar10 dataset. CIFAR10 is a dataset of images categorized into 10 categories. Goal of the network is to classify the images into the correct category."
   ]
  },
  {
   "cell_type": "markdown",
   "id": "88f4f230-e16e-420c-b614-865a28cf4ce1",
   "metadata": {},
   "source": [
    "Let's start with loading any libraries you need."
   ]
  },
  {
   "cell_type": "code",
   "execution_count": null,
   "id": "d20bef78-771d-4c9a-9c22-95e983b4a3e3",
   "metadata": {},
   "outputs": [],
   "source": [
    "# Load libraries you need here\n",
    "import tensorflow as tf\n",
    "from tensorflow.keras.datasets import cifar10\n",
    "import matplotlib.pyplot as plt\n"
   ]
  },
  {
   "cell_type": "markdown",
   "id": "27a4f817-3f2f-4368-a11d-1787ad82529d",
   "metadata": {},
   "source": [
    "Load the data from the CIFAR10. The CIFAR-10 dataset contains 60,000 32x32 color images in 10 classes.\n",
    "Info can be found in the documentation: https://www.tensorflow.org/api_docs/python/tf/keras/datasets/cifar10/load_data"
   ]
  },
  {
   "cell_type": "code",
   "execution_count": null,
   "id": "b5079422-8611-4252-baff-bd93370a66ba",
   "metadata": {},
   "outputs": [],
   "source": [
    "(x_train, y_train), (x_test, y_test) = tf.keras.datasets.cifar10.load_data()\n",
    "# Use a portion of the training data as validation data. Do you need to do any preprocessing?"
   ]
  },
  {
   "cell_type": "markdown",
   "id": "be68dcda-adb9-4cbf-8f23-c39b4deae925",
   "metadata": {},
   "source": [
    "Create your model using conv2D layers, some type of pooling and finish with a dense network."
   ]
  },
  {
   "cell_type": "code",
   "execution_count": null,
   "id": "8a3efe32-d1ed-42b7-99ff-dfde67538989",
   "metadata": {},
   "outputs": [],
   "source": [
    "model = Sequential([\n",
    "# Your model here\n",
    "])\n",
    "model.compile(optimizer='Adam', loss='<what loss to use?>', metrics=['accuracy'])\n"
   ]
  },
  {
   "cell_type": "markdown",
   "id": "bc5b6359-3bc8-4080-9cc5-c82531e4c565",
   "metadata": {},
   "source": [
    "Train your model. Since the dataset is so big not a lot of epochs should be needed to start seeing results."
   ]
  },
  {
   "cell_type": "code",
   "execution_count": null,
   "id": "23c23e38-2942-4ae6-ba18-a662ea4ac75d",
   "metadata": {},
   "outputs": [],
   "source": [
    "history = model.fit(x_train, y_train, epochs=10, validation_data=(x_val, y_val))\n"
   ]
  },
  {
   "cell_type": "markdown",
   "id": "34ff3355-176f-438c-b467-85cf862b8482",
   "metadata": {},
   "source": [
    "Visualize the model performance"
   ]
  },
  {
   "cell_type": "code",
   "execution_count": null,
   "id": "96125902-bd6a-47fc-813c-099d49e60476",
   "metadata": {},
   "outputs": [],
   "source": [
    "plt.figure(figsize=(12, 4))\n",
    "plt.subplot(1, 2, 1)\n",
    "plt.plot(history.history['accuracy'], label='Training Accuracy')\n",
    "plt.plot(history.history['val_accuracy'], label='Validation Accuracy')\n",
    "plt.title('Accuracy over Epochs')\n",
    "plt.xlabel('Epoch')\n",
    "plt.ylabel('Accuracy')\n",
    "plt.legend()\n",
    "\n",
    "plt.subplot(1, 2, 2)\n",
    "plt.plot(history.history['loss'], label='Training Loss')\n",
    "plt.plot(history.history['val_loss'], label='Validation Loss')\n",
    "plt.title('Loss over Epochs')\n",
    "plt.xlabel('Epoch')\n",
    "plt.ylabel('Loss')\n",
    "plt.legend()\n",
    "\n",
    "plt.show()\n"
   ]
  },
  {
   "cell_type": "markdown",
   "id": "6cda7ca3-26fc-4314-9ffe-46235642e2fc",
   "metadata": {},
   "source": [
    "Evaluate on the test set"
   ]
  },
  {
   "cell_type": "code",
   "execution_count": null,
   "id": "8761dbc6-8cff-48ba-8de2-709f21a35ab8",
   "metadata": {},
   "outputs": [],
   "source": [
    "test_loss, test_accuracy = model.evaluate(x_test, y_test, verbose=2)\n",
    "\n",
    "# prints and plots you might need to evaluate.\n"
   ]
  },
  {
   "cell_type": "markdown",
   "id": "433a1e30-4bb6-4975-a74a-d9a04fbab465",
   "metadata": {},
   "source": [
    "# Excercise\n",
    "Experiment with different architectures and try to find a model that performs well."
   ]
  },
  {
   "cell_type": "code",
   "execution_count": null,
   "id": "154e88fc-2c28-4903-80aa-b299321204ab",
   "metadata": {},
   "outputs": [],
   "source": []
  }
 ],
 "metadata": {
  "kernelspec": {
   "display_name": "Python 3 (ipykernel)",
   "language": "python",
   "name": "python3"
  },
  "language_info": {
   "codemirror_mode": {
    "name": "ipython",
    "version": 3
   },
   "file_extension": ".py",
   "mimetype": "text/x-python",
   "name": "python",
   "nbconvert_exporter": "python",
   "pygments_lexer": "ipython3",
   "version": "3.11.3"
  }
 },
 "nbformat": 4,
 "nbformat_minor": 5
}
